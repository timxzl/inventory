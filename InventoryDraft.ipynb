{
 "cells": [
  {
   "cell_type": "code",
   "execution_count": 242,
   "metadata": {
    "collapsed": true
   },
   "outputs": [],
   "source": [
    "import datetime\n",
    "from openpyxl import load_workbook\n",
    "\n",
    "wb = load_workbook(\"data1.xlsx\")    "
   ]
  },
  {
   "cell_type": "code",
   "execution_count": 243,
   "metadata": {
    "collapsed": false
   },
   "outputs": [],
   "source": [
    "sheetNames = wb.get_sheet_names()\n",
    "sheet = wb[sheetNames[0]]"
   ]
  },
  {
   "cell_type": "code",
   "execution_count": 244,
   "metadata": {
    "collapsed": false
   },
   "outputs": [],
   "source": [
    "def getEntry(sheet, r):\n",
    "    dat = sheet.cell(row = r, column = 1).value\n",
    "    if not (dat is None or isinstance(dat, datetime.datetime)):\n",
    "        return None\n",
    "    pidCell = sheet.cell(row = r, column = 2)\n",
    "    pid = pidCell.value\n",
    "    if pidCell.data_type != 's' or pid is None:\n",
    "        return None\n",
    "    amountCell = sheet.cell(row = r, column = 3)\n",
    "    amount = amountCell.value\n",
    "    if amountCell.data_type != 'n' or amount is None:\n",
    "        return None\n",
    "    priceCell = sheet.cell(row = r, column = 4)\n",
    "    price = priceCell.value\n",
    "    if priceCell.data_type != 'n' or price is None:\n",
    "        return None\n",
    "    return (dat, pid, amount, price)"
   ]
  },
  {
   "cell_type": "code",
   "execution_count": 245,
   "metadata": {
    "collapsed": false
   },
   "outputs": [],
   "source": [
    "def rowAsString(sheet, r, highest_column):\n",
    "    cells = [sheet.cell(row = r, column = i) for i in xrange(1, 1+highest_column)]\n",
    "    return \" \".join([c.value.strip() for c in cells if c.data_type == 's'])"
   ]
  },
  {
   "cell_type": "code",
   "execution_count": 246,
   "metadata": {
    "collapsed": false
   },
   "outputs": [],
   "source": [
    "def readSheet(sheet):\n",
    "    title = None\n",
    "    entries = []\n",
    "    highest_row = sheet.get_highest_row()\n",
    "    highest_column = sheet.get_highest_column()\n",
    "    entry = getEntry(sheet, 1)\n",
    "    if entry is None:\n",
    "        title = rowAsString(sheet, 1, highest_column)\n",
    "        if not title:\n",
    "            title = None\n",
    "    else:\n",
    "        entries.append(entry)\n",
    "    for r in xrange(2, 1+highest_row):\n",
    "        entry = getEntry(sheet, r)\n",
    "        if entry is not None:\n",
    "            entries.append(entry)\n",
    "    return (title, entries)"
   ]
  },
  {
   "cell_type": "code",
   "execution_count": 247,
   "metadata": {
    "collapsed": false
   },
   "outputs": [
    {
     "data": {
      "text/plain": [
       "(u'Title which is very long to fit in one cell   how long ii',\n",
       " [(datetime.datetime(2015, 9, 8, 0, 0), u'F71561 ASH', 1, 219),\n",
       "  (datetime.datetime(2015, 9, 8, 0, 0), u'F71561 BLK', 1, 219),\n",
       "  (datetime.datetime(2015, 9, 8, 0, 0), u'F71561 MAH', 2, 219),\n",
       "  (datetime.datetime(2015, 9, 8, 0, 0), u'F71674 EBC', 2, 159.2),\n",
       "  (datetime.datetime(2015, 9, 8, 0, 0), u'F71674 MID', 4, 159.2),\n",
       "  (datetime.datetime(2015, 9, 8, 0, 0), u'F71701 SAD', 1, 229),\n",
       "  (datetime.datetime(2015, 9, 8, 0, 0), u'F71723 BLK', 8, 129),\n",
       "  (datetime.datetime(2015, 9, 8, 0, 0), u'F71723 MAH', 4, 129),\n",
       "  (datetime.datetime(2015, 9, 8, 0, 0), u'F71723 MID', 1, 129),\n",
       "  (datetime.datetime(2015, 9, 8, 0, 0), u'F71723 SAD', 4, 129),\n",
       "  (datetime.datetime(2015, 9, 8, 0, 0), u'F71726 BLK', 10, 179),\n",
       "  (datetime.datetime(2015, 9, 8, 0, 0), u'F71726 MAH', 4, 179),\n",
       "  (datetime.datetime(2015, 9, 8, 0, 0), u'F71726 SAD', 2, 179),\n",
       "  (datetime.datetime(2015, 9, 8, 0, 0), u'F71745 MAH', 2, 99),\n",
       "  (datetime.datetime(2015, 9, 8, 0, 0), u'F71755 E83', 7, 159.2),\n",
       "  (datetime.datetime(2015, 9, 8, 0, 0), u'F71794 CQ/BK', 5, 179),\n",
       "  (datetime.datetime(2015, 9, 8, 0, 0), u'F71794 MA/BR', 11, 179),\n",
       "  (datetime.datetime(2015, 9, 8, 0, 0), u'F72108 BLK', 2, 149),\n",
       "  (datetime.datetime(2015, 9, 8, 0, 0), u'F74686 TOB', 8, 63.2),\n",
       "  (datetime.datetime(2015, 9, 8, 0, 0), u'F74981 BLK', 5, 55.2),\n",
       "  (datetime.datetime(2015, 9, 8, 0, 0), u'F74991 MAH', 2, 63.2),\n",
       "  (datetime.datetime(2015, 9, 8, 0, 0), u'F74993 MA/BR', 1, 63.2),\n",
       "  (datetime.datetime(2015, 9, 8, 0, 0), u'F75003 BLK', 4, 55.2),\n",
       "  (datetime.datetime(2015, 9, 8, 0, 0), u'F75003 MAH', 1, 55.2),\n",
       "  (datetime.datetime(2015, 9, 8, 0, 0), u'F75005 BLK', 3, 55.2),\n",
       "  (datetime.datetime(2015, 9, 8, 0, 0), u'F75006 CQ/BK', 1, 55.2),\n",
       "  (datetime.datetime(2015, 9, 8, 0, 0), u'F75083 CQ/BK', 1, 55.2),\n",
       "  (datetime.datetime(2015, 9, 8, 0, 0), u'F75083 MA/BR', 3, 55.2),\n",
       "  (datetime.datetime(2015, 9, 8, 0, 0), u'F75084 BLK', 1, 55.2),\n",
       "  (datetime.datetime(2015, 9, 8, 0, 0), u'F75084 MAH', 1, 55.2),\n",
       "  (datetime.datetime(2015, 9, 8, 0, 0), u'F75084 SAD', 1, 55.2)])"
      ]
     },
     "execution_count": 247,
     "metadata": {},
     "output_type": "execute_result"
    }
   ],
   "source": [
    "readSheet(sheet)"
   ]
  },
  {
   "cell_type": "code",
   "execution_count": null,
   "metadata": {
    "collapsed": true
   },
   "outputs": [],
   "source": []
  }
 ],
 "metadata": {
  "kernelspec": {
   "display_name": "Python 2",
   "language": "python",
   "name": "python2"
  },
  "language_info": {
   "codemirror_mode": {
    "name": "ipython",
    "version": 2
   },
   "file_extension": ".py",
   "mimetype": "text/x-python",
   "name": "python",
   "nbconvert_exporter": "python",
   "pygments_lexer": "ipython2",
   "version": "2.7.10"
  }
 },
 "nbformat": 4,
 "nbformat_minor": 0
}
