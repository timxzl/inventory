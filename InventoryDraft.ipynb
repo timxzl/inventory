{
 "cells": [
  {
   "cell_type": "code",
   "execution_count": 153,
   "metadata": {
    "collapsed": true
   },
   "outputs": [],
   "source": [
    "import sqlite3, datetime\n",
    "from openpyxl import load_workbook"
   ]
  },
  {
   "cell_type": "code",
   "execution_count": 154,
   "metadata": {
    "collapsed": false
   },
   "outputs": [],
   "source": [
    "def getEntry(sheet, r):\n",
    "    dat = sheet.cell(row = r, column = 1).value\n",
    "    if not (dat is None or isinstance(dat, datetime.datetime)):\n",
    "        return None\n",
    "    pidCell = sheet.cell(row = r, column = 2)\n",
    "    pid = pidCell.value\n",
    "    if pidCell.data_type != 's' or pid is None:\n",
    "        return None\n",
    "    amountCell = sheet.cell(row = r, column = 3)\n",
    "    amount = amountCell.value\n",
    "    if amountCell.data_type != 'n' or amount is None:\n",
    "        return None\n",
    "    priceCell = sheet.cell(row = r, column = 4)\n",
    "    price = priceCell.value\n",
    "    if priceCell.data_type != 'n' or price is None:\n",
    "        return None\n",
    "    return (r, dat, pid, amount, price)\n",
    "\n",
    "def rowAsString(sheet, r, highest_column):\n",
    "    cells = [sheet.cell(row = r, column = i) for i in xrange(1, 1+highest_column)]\n",
    "    return \" \".join([c.value.strip() for c in cells if c.data_type == 's'])\n",
    "\n",
    "def readSheet(sheet):\n",
    "    title = None\n",
    "    entries = []\n",
    "    highest_row = sheet.get_highest_row()\n",
    "    highest_column = sheet.get_highest_column()\n",
    "    entry = getEntry(sheet, 1)\n",
    "    if entry is None:\n",
    "        title = rowAsString(sheet, 1, highest_column)\n",
    "        if not title:\n",
    "            title = None\n",
    "    else:\n",
    "        entries.append(entry)\n",
    "    for r in xrange(2, 1+highest_row):\n",
    "        entry = getEntry(sheet, r)\n",
    "        if entry is not None:\n",
    "            entries.append(entry)\n",
    "    return (title, entries)\n",
    "\n",
    "def readSheetFile(fname):\n",
    "    wb = load_workbook(fname)\n",
    "    sheetNames = wb.get_sheet_names()\n",
    "    sheet = wb[sheetNames[0]]\n",
    "    return readSheet(sheet)"
   ]
  },
  {
   "cell_type": "code",
   "execution_count": 155,
   "metadata": {
    "collapsed": true
   },
   "outputs": [],
   "source": [
    "def createTables(conn):\n",
    "    c = conn.cursor()\n",
    "    c.execute('''CREATE TABLE IF NOT EXISTS sheets(\n",
    "                    sheetId INTEGER PRIMARY KEY AUTOINCREMENT,\n",
    "                    flag INTEGER,\n",
    "                    loadDate DATETIME,\n",
    "                    title STRING,\n",
    "                    filename STRING,\n",
    "                    desc STRING\n",
    "                    )''')\n",
    "                    \n",
    "    c.execute('''CREATE TABLE IF NOT EXISTS tranx(\n",
    "                    sheetId INTEGER,\n",
    "                    lineNo INTEGER,\n",
    "                    date DATETIME,\n",
    "                    productId STRING,\n",
    "                    amount STRING,\n",
    "                    price DOUBLE,\n",
    "                    PRIMARY KEY(sheetId, lineNo)\n",
    "                    )''')\n",
    "    \n",
    "    c.execute('''CREATE TABLE IF NOT EXISTS commands(\n",
    "                    commandId INTEGER PRIMARY KEY AUTOINCREMENT,\n",
    "                    flag INTEGER,\n",
    "                    execDate DATETIME,\n",
    "                    endDate DATETIME,\n",
    "                    command INTEGER,\n",
    "                    sheetId INTEGER,\n",
    "                    desc STRING\n",
    "                    )''')\n",
    "    \n",
    "    c.execute('''CREATE VIEW IF NOT EXISTS productTranx AS\n",
    "                    SELECT productId, amount, price, date, tranx.sheetId, lineNo\n",
    "                    FROM tranx JOIN sheets ON tranx.sheetId = sheets.sheetId WHERE sheets.flag=1\n",
    "                    ORDER BY productId\n",
    "                ''')\n",
    "    \n",
    "    c.execute('''CREATE VIEW IF NOT EXISTS productBalance AS\n",
    "                    SELECT productId, SUM(amount) AS balance\n",
    "                    FROM productTranx\n",
    "                    GROUP BY productId\n",
    "                ''')\n",
    "\n",
    "    conn.commit()"
   ]
  },
  {
   "cell_type": "code",
   "execution_count": 156,
   "metadata": {
    "collapsed": false
   },
   "outputs": [],
   "source": [
    "conn = sqlite3.connect('inven.sqlite')\n",
    "createTables(conn)"
   ]
  },
  {
   "cell_type": "code",
   "execution_count": 157,
   "metadata": {
    "collapsed": true
   },
   "outputs": [],
   "source": [
    "def loadSheetContent(conn, fname, title, entries):\n",
    "    c = conn.cursor()\n",
    "    c.execute('INSERT INTO commands(execDate, command) VALUES(CURRENT_TIMESTAMP, 1)')\n",
    "    commandId = c.lastrowid\n",
    "    \n",
    "    c.execute('INSERT INTO sheets(title, filename) VALUES(:t, :f)', {'t': title, 'f': fname})\n",
    "    sheetId = c.lastrowid\n",
    "    \n",
    "    cmd = 'INSERT INTO tranx(sheetId, lineNo, date, productId, amount, price) VALUES(%d, ?, ?, ?, ?, ?)' % sheetId\n",
    "    #print cmd\n",
    "    c.executemany(cmd, entries)\n",
    "    \n",
    "    c.execute('UPDATE sheets SET flag=1, loadDate=CURRENT_TIMESTAMP WHERE sheetId=:s', {'s': sheetId})\n",
    "    c.execute('UPDATE commands SET flag=1, endDate=CURRENT_TIMESTAMP, sheetId=:s WHERE commandId=:c',\n",
    "              {'s': sheetId, 'c': commandId})\n",
    "    \n",
    "    conn.commit()\n",
    "\n",
    "def loadSheetFile(conn, fname):\n",
    "    title, entries = readSheetFile(fname)\n",
    "    loadSheetContent(conn, fname, title, entries)"
   ]
  },
  {
   "cell_type": "code",
   "execution_count": 158,
   "metadata": {
    "collapsed": false
   },
   "outputs": [],
   "source": [
    "loadSheetFile(conn, 'data1.xlsx')\n",
    "loadSheetFile(conn, 'data2.xlsx')"
   ]
  },
  {
   "cell_type": "code",
   "execution_count": null,
   "metadata": {
    "collapsed": true
   },
   "outputs": [],
   "source": []
  }
 ],
 "metadata": {
  "kernelspec": {
   "display_name": "Python 2",
   "language": "python",
   "name": "python2"
  },
  "language_info": {
   "codemirror_mode": {
    "name": "ipython",
    "version": 2
   },
   "file_extension": ".py",
   "mimetype": "text/x-python",
   "name": "python",
   "nbconvert_exporter": "python",
   "pygments_lexer": "ipython2",
   "version": "2.7.10"
  }
 },
 "nbformat": 4,
 "nbformat_minor": 0
}
